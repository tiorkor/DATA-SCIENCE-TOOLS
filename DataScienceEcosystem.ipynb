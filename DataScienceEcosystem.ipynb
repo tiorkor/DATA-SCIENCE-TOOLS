{
 "cells": [
  {
   "cell_type": "markdown",
   "id": "0730c294",
   "metadata": {},
   "source": [
    "# Data Science Tools and Ecosystem\n"
   ]
  },
  {
   "cell_type": "code",
   "execution_count": null,
   "id": "4f3a4ba3",
   "metadata": {},
   "outputs": [],
   "source": []
  },
  {
   "cell_type": "code",
   "execution_count": null,
   "id": "78519fb6",
   "metadata": {},
   "outputs": [],
   "source": []
  },
  {
   "cell_type": "markdown",
   "id": "8ce87672",
   "metadata": {},
   "source": [
    "In this notebook,Data Science Tools and Ecosystem are summarized"
   ]
  },
  {
   "cell_type": "code",
   "execution_count": null,
   "id": "d5ec64b0",
   "metadata": {},
   "outputs": [],
   "source": [
    "EX4"
   ]
  },
  {
   "cell_type": "markdown",
   "id": "c1929ac2",
   "metadata": {},
   "source": [
    "some of the popular languages used in data science are\n",
    "1. Python\n",
    "2. R\n",
    "3. SQL"
   ]
  },
  {
   "cell_type": "markdown",
   "id": "810d4517",
   "metadata": {},
   "source": [
    "\n"
   ]
  },
  {
   "cell_type": "markdown",
   "id": "23d8d7db",
   "metadata": {},
   "source": [
    "EX10"
   ]
  },
  {
   "cell_type": "markdown",
   "id": "4d220dc4",
   "metadata": {},
   "source": [
    "\n",
    "**OBJECTIVES**\n",
    "* List popular languages in data science\n",
    "* some libraries used in data science and their uses\n",
    "* Development environment open source tools in data science\n"
   ]
  },
  {
   "cell_type": "code",
   "execution_count": null,
   "id": "9ea15a85",
   "metadata": {},
   "outputs": [],
   "source": []
  },
  {
   "cell_type": "code",
   "execution_count": null,
   "id": "ba2ed5d0",
   "metadata": {},
   "outputs": [],
   "source": [
    "EX5"
   ]
  },
  {
   "cell_type": "markdown",
   "id": "d6db14ac",
   "metadata": {},
   "source": [
    "some of the libraries used by Data Scientists include:\n",
    "1. Scikit\n",
    "2. scipy\n",
    "3. Tensorflow"
   ]
  },
  {
   "cell_type": "code",
   "execution_count": null,
   "id": "b3910968",
   "metadata": {},
   "outputs": [],
   "source": []
  },
  {
   "cell_type": "code",
   "execution_count": null,
   "id": "c17618fe",
   "metadata": {},
   "outputs": [],
   "source": [
    "ex6"
   ]
  },
  {
   "cell_type": "markdown",
   "id": "7bbc754f",
   "metadata": {},
   "source": [
    "|Data Science Tools|\n",
    "|-------------------|\n",
    "|Jupiter Notebook   |\n",
    "|R studio           |\n",
    "|Vs Code            |"
   ]
  },
  {
   "cell_type": "markdown",
   "id": "e7a4133d",
   "metadata": {},
   "source": [
    "|Data Science Tools|\n",
    "|-------------------|\n",
    "|Jupiter Notebook   |\n",
    "|R studio           |\n",
    "|Vs Code            |"
   ]
  },
  {
   "cell_type": "code",
   "execution_count": null,
   "id": "3eaa6e90",
   "metadata": {},
   "outputs": [],
   "source": []
  },
  {
   "cell_type": "code",
   "execution_count": null,
   "id": "38d33318",
   "metadata": {},
   "outputs": [],
   "source": [
    "Ex7"
   ]
  },
  {
   "cell_type": "markdown",
   "id": "502abe37",
   "metadata": {},
   "source": [
    "### Below are a few examples of evaluating arithmetic expressions in python\n",
    "\n"
   ]
  },
  {
   "cell_type": "markdown",
   "id": "f906fcf9",
   "metadata": {},
   "source": []
  },
  {
   "cell_type": "code",
   "execution_count": 6,
   "id": "cedd7cc6",
   "metadata": {},
   "outputs": [
    {
     "data": {
      "text/plain": [
       "15"
      ]
     },
     "execution_count": 6,
     "metadata": {},
     "output_type": "execute_result"
    }
   ],
   "source": [
    "7+8\n"
   ]
  },
  {
   "cell_type": "code",
   "execution_count": null,
   "id": "4ffc4edb",
   "metadata": {},
   "outputs": [],
   "source": []
  },
  {
   "cell_type": "code",
   "execution_count": null,
   "id": "9ecb3f51",
   "metadata": {},
   "outputs": [],
   "source": [
    "Ex8"
   ]
  },
  {
   "cell_type": "code",
   "execution_count": 7,
   "id": "038f52ca",
   "metadata": {},
   "outputs": [
    {
     "data": {
      "text/plain": [
       "17"
      ]
     },
     "execution_count": 7,
     "metadata": {},
     "output_type": "execute_result"
    }
   ],
   "source": [
    "#This a simple arithmetic expression to multiply then add integers\n",
    "(3*4)+5"
   ]
  },
  {
   "cell_type": "code",
   "execution_count": null,
   "id": "921d4674",
   "metadata": {},
   "outputs": [],
   "source": []
  },
  {
   "cell_type": "code",
   "execution_count": null,
   "id": "93fe44fe",
   "metadata": {},
   "outputs": [],
   "source": [
    "Ex9."
   ]
  },
  {
   "cell_type": "code",
   "execution_count": 8,
   "id": "788d4038",
   "metadata": {},
   "outputs": [
    {
     "data": {
      "text/plain": [
       "3.3333333333333335"
      ]
     },
     "execution_count": 8,
     "metadata": {},
     "output_type": "execute_result"
    }
   ],
   "source": [
    "#This will convert 200 minutes to hours by dividing by 60\n",
    "200/60"
   ]
  },
  {
   "cell_type": "code",
   "execution_count": null,
   "id": "544adb2b",
   "metadata": {},
   "outputs": [],
   "source": []
  },
  {
   "cell_type": "code",
   "execution_count": null,
   "id": "be27fa03",
   "metadata": {},
   "outputs": [],
   "source": [
    "Ex11"
   ]
  },
  {
   "cell_type": "markdown",
   "id": "ec4959c5",
   "metadata": {},
   "source": [
    "##Author\n"
   ]
  },
  {
   "cell_type": "markdown",
   "id": "acbcd641",
   "metadata": {},
   "source": [
    "## Author\n",
    "Irene Odoi"
   ]
  },
  {
   "cell_type": "code",
   "execution_count": null,
   "id": "be5d614f",
   "metadata": {},
   "outputs": [],
   "source": []
  },
  {
   "cell_type": "code",
   "execution_count": null,
   "id": "a1b4cdc2",
   "metadata": {},
   "outputs": [],
   "source": []
  },
  {
   "cell_type": "code",
   "execution_count": null,
   "id": "4ff5e5fd",
   "metadata": {},
   "outputs": [],
   "source": []
  },
  {
   "cell_type": "code",
   "execution_count": null,
   "id": "32fe163a",
   "metadata": {},
   "outputs": [],
   "source": []
  },
  {
   "cell_type": "code",
   "execution_count": null,
   "id": "e3e02359",
   "metadata": {},
   "outputs": [],
   "source": []
  },
  {
   "cell_type": "code",
   "execution_count": null,
   "id": "be72346b",
   "metadata": {},
   "outputs": [],
   "source": []
  },
  {
   "cell_type": "code",
   "execution_count": null,
   "id": "7429a773",
   "metadata": {},
   "outputs": [],
   "source": []
  }
 ],
 "metadata": {
  "kernelspec": {
   "display_name": "Python 3 (ipykernel)",
   "language": "python",
   "name": "python3"
  },
  "language_info": {
   "codemirror_mode": {
    "name": "ipython",
    "version": 3
   },
   "file_extension": ".py",
   "mimetype": "text/x-python",
   "name": "python",
   "nbconvert_exporter": "python",
   "pygments_lexer": "ipython3",
   "version": "3.11.5"
  }
 },
 "nbformat": 4,
 "nbformat_minor": 5
}
